{
 "cells": [
  {
   "cell_type": "code",
   "execution_count": 1,
   "id": "d3c52385",
   "metadata": {
    "_cell_guid": "b1076dfc-b9ad-4769-8c92-a6c4dae69d19",
    "_uuid": "8f2839f25d086af736a60e9eeb907d3b93b6e0e5",
    "execution": {
     "iopub.execute_input": "2024-05-03T17:53:04.400576Z",
     "iopub.status.busy": "2024-05-03T17:53:04.399917Z",
     "iopub.status.idle": "2024-05-03T17:53:05.263838Z",
     "shell.execute_reply": "2024-05-03T17:53:05.262214Z"
    },
    "papermill": {
     "duration": 0.874815,
     "end_time": "2024-05-03T17:53:05.266133",
     "exception": false,
     "start_time": "2024-05-03T17:53:04.391318",
     "status": "completed"
    },
    "tags": []
   },
   "outputs": [],
   "source": [
    "# This Python 3 environment comes with many helpful analytics libraries installed\n",
    "# It is defined by the kaggle/python Docker image: https://github.com/kaggle/docker-python\n",
    "# For example, here's several helpful packages to load\n",
    "\n",
    "import numpy as np # linear algebra\n",
    "import pandas as pd # data processing, CSV file I/O (e.g. pd.read_csv)\n",
    "\n",
    "# Input data files are available in the read-only \"../input/\" directory\n",
    "# For example, running this (by clicking run or pressing Shift+Enter) will list all files under the input directory\n",
    "\n",
    "import os\n",
    "# for dirname, _, filenames in os.walk('/kaggle/input'):\n",
    "#     for filename in filenames:\n",
    "#         print(os.path.join(dirname, filename))\n",
    "\n",
    "# You can write up to 20GB to the current directory (/kaggle/working/) that gets preserved as output when you create a version using \"Save & Run All\" \n",
    "# You can also write temporary files to /kaggle/temp/, but they won't be saved outside of the current session"
   ]
  },
  {
   "cell_type": "code",
   "execution_count": 2,
   "id": "ecdab1e1",
   "metadata": {
    "execution": {
     "iopub.execute_input": "2024-05-03T17:53:05.282653Z",
     "iopub.status.busy": "2024-05-03T17:53:05.281880Z",
     "iopub.status.idle": "2024-05-03T17:53:05.286127Z",
     "shell.execute_reply": "2024-05-03T17:53:05.285314Z"
    },
    "papermill": {
     "duration": 0.016937,
     "end_time": "2024-05-03T17:53:05.290024",
     "exception": false,
     "start_time": "2024-05-03T17:53:05.273087",
     "status": "completed"
    },
    "tags": []
   },
   "outputs": [],
   "source": [
    "crema = \"/kaggle/input/cremad/AudioWAV/\""
   ]
  },
  {
   "cell_type": "code",
   "execution_count": 3,
   "id": "95648cd3",
   "metadata": {
    "execution": {
     "iopub.execute_input": "2024-05-03T17:53:05.305830Z",
     "iopub.status.busy": "2024-05-03T17:53:05.305438Z",
     "iopub.status.idle": "2024-05-03T17:53:05.415506Z",
     "shell.execute_reply": "2024-05-03T17:53:05.413762Z"
    },
    "papermill": {
     "duration": 0.120182,
     "end_time": "2024-05-03T17:53:05.417762",
     "exception": false,
     "start_time": "2024-05-03T17:53:05.297580",
     "status": "completed"
    },
    "tags": []
   },
   "outputs": [
    {
     "name": "stdout",
     "output_type": "stream",
     "text": [
      "0       /kaggle/input/cremad/AudioWAV/1028_TSI_DIS_XX.wav\n",
      "1       /kaggle/input/cremad/AudioWAV/1075_IEO_HAP_LO.wav\n",
      "2       /kaggle/input/cremad/AudioWAV/1084_ITS_HAP_XX.wav\n",
      "3       /kaggle/input/cremad/AudioWAV/1067_IWW_DIS_XX.wav\n",
      "4       /kaggle/input/cremad/AudioWAV/1066_TIE_DIS_XX.wav\n",
      "                              ...                        \n",
      "7437    /kaggle/input/cremad/AudioWAV/1060_IEO_ANG_MD.wav\n",
      "7438    /kaggle/input/cremad/AudioWAV/1088_IWL_ANG_XX.wav\n",
      "7439    /kaggle/input/cremad/AudioWAV/1050_IOM_ANG_XX.wav\n",
      "7440    /kaggle/input/cremad/AudioWAV/1044_IWL_SAD_XX.wav\n",
      "7441    /kaggle/input/cremad/AudioWAV/1009_ITH_SAD_XX.wav\n",
      "Name: Path, Length: 7442, dtype: object\n"
     ]
    }
   ],
   "source": [
    "crema_directory_list = os.listdir(crema)\n",
    "\n",
    "file_emotion = []\n",
    "file_path = []\n",
    "\n",
    "for file in crema_directory_list:\n",
    "    # storing file paths\n",
    "    file_path.append(crema + file)\n",
    "    # storing file emotions\n",
    "    part=file.split('_')\n",
    "    if part[2] == 'SAD':\n",
    "        file_emotion.append('sad')\n",
    "    elif part[2] == 'ANG':\n",
    "        file_emotion.append('angry')\n",
    "    elif part[2] == 'DIS':\n",
    "        file_emotion.append('disgust')\n",
    "    elif part[2] == 'FEA':\n",
    "        file_emotion.append('fear')\n",
    "    elif part[2] == 'HAP':\n",
    "        file_emotion.append('happy')\n",
    "    elif part[2] == 'NEU':\n",
    "        file_emotion.append('neutral')\n",
    "    else:\n",
    "        file_emotion.append('Unknown')\n",
    "        \n",
    "# dataframe for emotion of files\n",
    "emotion_df = pd.DataFrame(file_emotion, columns=['Emotions'])\n",
    "\n",
    "# dataframe for path of files.\n",
    "path_df = pd.DataFrame(file_path, columns=['Path'])\n",
    "Crema_df = pd.concat([emotion_df, path_df], axis=1)\n",
    "Crema_df.head()\n",
    "print(Crema_df['Path'])"
   ]
  },
  {
   "cell_type": "code",
   "execution_count": 4,
   "id": "e09e5a9d",
   "metadata": {
    "execution": {
     "iopub.execute_input": "2024-05-03T17:53:05.432762Z",
     "iopub.status.busy": "2024-05-03T17:53:05.432255Z",
     "iopub.status.idle": "2024-05-03T17:53:19.762207Z",
     "shell.execute_reply": "2024-05-03T17:53:19.761165Z"
    },
    "papermill": {
     "duration": 14.339786,
     "end_time": "2024-05-03T17:53:19.764381",
     "exception": false,
     "start_time": "2024-05-03T17:53:05.424595",
     "status": "completed"
    },
    "tags": []
   },
   "outputs": [
    {
     "name": "stderr",
     "output_type": "stream",
     "text": [
      "2024-05-03 17:53:07.713765: E external/local_xla/xla/stream_executor/cuda/cuda_dnn.cc:9261] Unable to register cuDNN factory: Attempting to register factory for plugin cuDNN when one has already been registered\n",
      "2024-05-03 17:53:07.713920: E external/local_xla/xla/stream_executor/cuda/cuda_fft.cc:607] Unable to register cuFFT factory: Attempting to register factory for plugin cuFFT when one has already been registered\n",
      "2024-05-03 17:53:07.888894: E external/local_xla/xla/stream_executor/cuda/cuda_blas.cc:1515] Unable to register cuBLAS factory: Attempting to register factory for plugin cuBLAS when one has already been registered\n"
     ]
    }
   ],
   "source": [
    "import keras\n",
    "from keras import regularizers\n",
    "from keras.preprocessing import sequence\n",
    "from keras.models import Sequential\n",
    "from keras.layers import Dense, Embedding\n",
    "from keras.layers import LSTM\n",
    "from tensorflow.keras.preprocessing.text import Tokenizer\n",
    "from keras.preprocessing.sequence import pad_sequences\n",
    "from keras.utils import to_categorical\n",
    "from keras.layers import Input, Flatten, Dropout, Activation\n",
    "from keras.layers import Conv1D, MaxPooling1D, AveragePooling1D\n",
    "from keras.models import Model\n",
    "from keras.callbacks import ModelCheckpoint\n",
    "from sklearn.metrics import confusion_matrix\n",
    "from sklearn.model_selection import train_test_split\n"
   ]
  },
  {
   "cell_type": "code",
   "execution_count": 5,
   "id": "2aa693f2",
   "metadata": {
    "execution": {
     "iopub.execute_input": "2024-05-03T17:53:19.779908Z",
     "iopub.status.busy": "2024-05-03T17:53:19.779300Z",
     "iopub.status.idle": "2024-05-03T17:53:20.128726Z",
     "shell.execute_reply": "2024-05-03T17:53:20.127929Z"
    },
    "papermill": {
     "duration": 0.359896,
     "end_time": "2024-05-03T17:53:20.131033",
     "exception": false,
     "start_time": "2024-05-03T17:53:19.771137",
     "status": "completed"
    },
    "tags": []
   },
   "outputs": [],
   "source": [
    "import sys\n",
    "import glob, pickle\n",
    "import librosa\n",
    "import librosa.display\n",
    "import matplotlib.pyplot as plt\n",
    "from matplotlib.pyplot import specgram\n",
    "import matplotlib.pyplot as plt\n",
    "import seaborn as sns"
   ]
  },
  {
   "cell_type": "code",
   "execution_count": 6,
   "id": "116be10b",
   "metadata": {
    "execution": {
     "iopub.execute_input": "2024-05-03T17:53:20.147923Z",
     "iopub.status.busy": "2024-05-03T17:53:20.147164Z",
     "iopub.status.idle": "2024-05-03T17:53:20.152156Z",
     "shell.execute_reply": "2024-05-03T17:53:20.150879Z"
    },
    "papermill": {
     "duration": 0.015711,
     "end_time": "2024-05-03T17:53:20.154143",
     "exception": false,
     "start_time": "2024-05-03T17:53:20.138432",
     "status": "completed"
    },
    "tags": []
   },
   "outputs": [],
   "source": [
    "emotions={\n",
    "  '01':'neutral',\n",
    "  '02':'pleasant',\n",
    "  '03':'happiness',\n",
    "  '04':'sadness',\n",
    "  '05':'anger',\n",
    "  '06':'fear',\n",
    "  '07':'disgust',\n",
    "  '08':'surprise'\n",
    "}"
   ]
  },
  {
   "cell_type": "code",
   "execution_count": 7,
   "id": "f4be1969",
   "metadata": {
    "execution": {
     "iopub.execute_input": "2024-05-03T17:53:20.169987Z",
     "iopub.status.busy": "2024-05-03T17:53:20.169636Z",
     "iopub.status.idle": "2024-05-03T17:53:20.175548Z",
     "shell.execute_reply": "2024-05-03T17:53:20.174063Z"
    },
    "papermill": {
     "duration": 0.01657,
     "end_time": "2024-05-03T17:53:20.178298",
     "exception": false,
     "start_time": "2024-05-03T17:53:20.161728",
     "status": "completed"
    },
    "tags": []
   },
   "outputs": [],
   "source": [
    "#Emotions to observe\n",
    "observed_emotions=['neutral','ps', 'happy', 'sad', 'angry', 'fear', 'disgust']"
   ]
  },
  {
   "cell_type": "code",
   "execution_count": 8,
   "id": "ed1642ca",
   "metadata": {
    "execution": {
     "iopub.execute_input": "2024-05-03T17:53:20.193942Z",
     "iopub.status.busy": "2024-05-03T17:53:20.193610Z",
     "iopub.status.idle": "2024-05-03T17:53:20.199588Z",
     "shell.execute_reply": "2024-05-03T17:53:20.198129Z"
    },
    "papermill": {
     "duration": 0.016688,
     "end_time": "2024-05-03T17:53:20.202248",
     "exception": false,
     "start_time": "2024-05-03T17:53:20.185560",
     "status": "completed"
    },
    "tags": []
   },
   "outputs": [],
   "source": [
    "def extract_mfcc(filename):\n",
    "    y, sr = librosa.load(filename, duration=3, offset=0.5)\n",
    "    mfcc = np.mean(librosa.feature.mfcc(y=y, sr=sr, n_mfcc=40).T, axis=0)\n",
    "    return mfcc"
   ]
  },
  {
   "cell_type": "code",
   "execution_count": 9,
   "id": "48ec806b",
   "metadata": {
    "execution": {
     "iopub.execute_input": "2024-05-03T17:53:20.217996Z",
     "iopub.status.busy": "2024-05-03T17:53:20.217623Z",
     "iopub.status.idle": "2024-05-03T17:53:22.074079Z",
     "shell.execute_reply": "2024-05-03T17:53:22.072437Z"
    },
    "papermill": {
     "duration": 1.868034,
     "end_time": "2024-05-03T17:53:22.077335",
     "exception": false,
     "start_time": "2024-05-03T17:53:20.209301",
     "status": "completed"
    },
    "tags": []
   },
   "outputs": [
    {
     "name": "stdout",
     "output_type": "stream",
     "text": [
      "Dataset is Loaded\n"
     ]
    }
   ],
   "source": [
    "paths = []\n",
    "labels = []\n",
    "for dirname, _, filenames in os.walk('/kaggle/input/toronto-emotional-speech-set-tess'):\n",
    "    for filename in filenames:\n",
    "        paths.append(os.path.join(dirname, filename))\n",
    "        label = filename.split('_')[-1]\n",
    "        label = label.split('.')[0]\n",
    "        labels.append(label.lower())\n",
    "#     if len(paths) == 2800:\n",
    "#         break\n",
    "\n",
    "print('Dataset is Loaded')\n",
    "# data_dict = {\n",
    "#     'Path': paths,  # Column for file paths\n",
    "#     'Label': labels  # Column for labels\n",
    "# }\n",
    "# import pandas as pd  # Ensure Pandas is imported\n",
    "\n",
    "# # Create a DataFrame from the dictionary\n",
    "# tess_df = pd.DataFrame(data_dict)\n",
    "# print(tess_df.head())  # Displays the first 5 rows\n",
    "\n",
    "# # Display the DataFrame's shape to see how many rows and columns it has\n",
    "# print(\"DataFrame shape:\", tess_df.shape)"
   ]
  },
  {
   "cell_type": "code",
   "execution_count": 10,
   "id": "7a316e31",
   "metadata": {
    "execution": {
     "iopub.execute_input": "2024-05-03T17:53:22.094499Z",
     "iopub.status.busy": "2024-05-03T17:53:22.094107Z",
     "iopub.status.idle": "2024-05-03T17:53:22.100400Z",
     "shell.execute_reply": "2024-05-03T17:53:22.099255Z"
    },
    "papermill": {
     "duration": 0.01697,
     "end_time": "2024-05-03T17:53:22.102312",
     "exception": false,
     "start_time": "2024-05-03T17:53:22.085342",
     "status": "completed"
    },
    "tags": []
   },
   "outputs": [],
   "source": [
    "def load_data(test_size=0.2):\n",
    "    # Initialize lists for features and labels\n",
    "    x = []  # Features\n",
    "    y = []  # Labels\n",
    "\n",
    "    # Extract features and labels from predefined lists\n",
    "    for path, label in zip(paths, labels):\n",
    "        if label not in observed_emotions:\n",
    "            continue  # Skip if the label is not in the observed emotions\n",
    "        feature = extract_mfcc(path)  # Pass the full file path\n",
    "        x.append(feature)  # Add extracted features to the list\n",
    "        y.append(label)   # Add label to the list\n",
    "    \n",
    "#     # Extract features and labels from Crema_df\n",
    "#     for row in Crema_df.itertuples(index=False, name=None):\n",
    "#         Path, Emotions = row  # Explicit unpacking\n",
    "#         feature = extract_mfcc(Path)  # Pass the full file path\n",
    "#         x.append(feature)  # Add extracted features to the list\n",
    "#         y.append(Emotions)  # Add label to the list\n",
    "\n",
    "#     # Return the extracted features and labels\n",
    "    return {\"X\": x, \"y\": y}\n"
   ]
  },
  {
   "cell_type": "code",
   "execution_count": 11,
   "id": "2b9556e2",
   "metadata": {
    "execution": {
     "iopub.execute_input": "2024-05-03T17:53:22.119687Z",
     "iopub.status.busy": "2024-05-03T17:53:22.118051Z",
     "iopub.status.idle": "2024-05-03T17:55:22.689652Z",
     "shell.execute_reply": "2024-05-03T17:55:22.688685Z"
    },
    "papermill": {
     "duration": 120.588437,
     "end_time": "2024-05-03T17:55:22.698016",
     "exception": false,
     "start_time": "2024-05-03T17:53:22.109579",
     "status": "completed"
    },
    "tags": []
   },
   "outputs": [
    {
     "data": {
      "text/html": [
       "<div>\n",
       "<style scoped>\n",
       "    .dataframe tbody tr th:only-of-type {\n",
       "        vertical-align: middle;\n",
       "    }\n",
       "\n",
       "    .dataframe tbody tr th {\n",
       "        vertical-align: top;\n",
       "    }\n",
       "\n",
       "    .dataframe thead th {\n",
       "        text-align: right;\n",
       "    }\n",
       "</style>\n",
       "<table border=\"1\" class=\"dataframe\">\n",
       "  <thead>\n",
       "    <tr style=\"text-align: right;\">\n",
       "      <th></th>\n",
       "      <th>feature1</th>\n",
       "      <th>feature2</th>\n",
       "      <th>feature3</th>\n",
       "      <th>feature4</th>\n",
       "      <th>feature5</th>\n",
       "      <th>feature6</th>\n",
       "      <th>feature7</th>\n",
       "      <th>feature8</th>\n",
       "      <th>feature9</th>\n",
       "      <th>feature10</th>\n",
       "      <th>...</th>\n",
       "      <th>feature33</th>\n",
       "      <th>feature34</th>\n",
       "      <th>feature35</th>\n",
       "      <th>feature36</th>\n",
       "      <th>feature37</th>\n",
       "      <th>feature38</th>\n",
       "      <th>feature39</th>\n",
       "      <th>feature40</th>\n",
       "      <th>emotion</th>\n",
       "      <th>label</th>\n",
       "    </tr>\n",
       "  </thead>\n",
       "  <tbody>\n",
       "    <tr>\n",
       "      <th>0</th>\n",
       "      <td>-285.737274</td>\n",
       "      <td>85.782951</td>\n",
       "      <td>-2.168912</td>\n",
       "      <td>22.125530</td>\n",
       "      <td>-14.757398</td>\n",
       "      <td>11.051346</td>\n",
       "      <td>12.412449</td>\n",
       "      <td>-3.000262</td>\n",
       "      <td>1.084499</td>\n",
       "      <td>11.078273</td>\n",
       "      <td>...</td>\n",
       "      <td>-11.202218</td>\n",
       "      <td>-9.024621</td>\n",
       "      <td>-3.666985</td>\n",
       "      <td>4.869744</td>\n",
       "      <td>-1.602798</td>\n",
       "      <td>2.560051</td>\n",
       "      <td>11.454374</td>\n",
       "      <td>11.233451</td>\n",
       "      <td>fear</td>\n",
       "      <td>2</td>\n",
       "    </tr>\n",
       "    <tr>\n",
       "      <th>1</th>\n",
       "      <td>-348.343323</td>\n",
       "      <td>35.193233</td>\n",
       "      <td>-3.841328</td>\n",
       "      <td>14.658875</td>\n",
       "      <td>6.421053</td>\n",
       "      <td>-0.773787</td>\n",
       "      <td>-4.091444</td>\n",
       "      <td>-7.512503</td>\n",
       "      <td>-20.121277</td>\n",
       "      <td>1.180449</td>\n",
       "      <td>...</td>\n",
       "      <td>-1.774828</td>\n",
       "      <td>-7.043899</td>\n",
       "      <td>-12.571158</td>\n",
       "      <td>3.316836</td>\n",
       "      <td>1.701795</td>\n",
       "      <td>-0.645632</td>\n",
       "      <td>0.335101</td>\n",
       "      <td>9.383598</td>\n",
       "      <td>fear</td>\n",
       "      <td>2</td>\n",
       "    </tr>\n",
       "    <tr>\n",
       "      <th>2</th>\n",
       "      <td>-340.114349</td>\n",
       "      <td>53.796444</td>\n",
       "      <td>-14.267782</td>\n",
       "      <td>20.884027</td>\n",
       "      <td>9.057836</td>\n",
       "      <td>-3.562478</td>\n",
       "      <td>-3.301548</td>\n",
       "      <td>-11.213589</td>\n",
       "      <td>-5.353901</td>\n",
       "      <td>4.443878</td>\n",
       "      <td>...</td>\n",
       "      <td>-15.309781</td>\n",
       "      <td>-6.463319</td>\n",
       "      <td>-4.059399</td>\n",
       "      <td>4.893753</td>\n",
       "      <td>-0.165810</td>\n",
       "      <td>2.755698</td>\n",
       "      <td>11.734241</td>\n",
       "      <td>11.355121</td>\n",
       "      <td>fear</td>\n",
       "      <td>2</td>\n",
       "    </tr>\n",
       "    <tr>\n",
       "      <th>3</th>\n",
       "      <td>-306.634216</td>\n",
       "      <td>21.259708</td>\n",
       "      <td>-4.411082</td>\n",
       "      <td>6.487155</td>\n",
       "      <td>-7.804567</td>\n",
       "      <td>9.876858</td>\n",
       "      <td>-1.674363</td>\n",
       "      <td>-13.998476</td>\n",
       "      <td>-9.832037</td>\n",
       "      <td>15.141318</td>\n",
       "      <td>...</td>\n",
       "      <td>-8.218043</td>\n",
       "      <td>-0.909134</td>\n",
       "      <td>0.446974</td>\n",
       "      <td>5.390133</td>\n",
       "      <td>-1.845823</td>\n",
       "      <td>3.844763</td>\n",
       "      <td>0.011730</td>\n",
       "      <td>-0.432099</td>\n",
       "      <td>fear</td>\n",
       "      <td>2</td>\n",
       "    </tr>\n",
       "    <tr>\n",
       "      <th>4</th>\n",
       "      <td>-344.754791</td>\n",
       "      <td>46.329193</td>\n",
       "      <td>-24.171413</td>\n",
       "      <td>19.392921</td>\n",
       "      <td>2.262577</td>\n",
       "      <td>-6.460284</td>\n",
       "      <td>-5.930691</td>\n",
       "      <td>5.036542</td>\n",
       "      <td>-3.744801</td>\n",
       "      <td>4.203501</td>\n",
       "      <td>...</td>\n",
       "      <td>-4.668800</td>\n",
       "      <td>6.438029</td>\n",
       "      <td>-2.390229</td>\n",
       "      <td>0.041108</td>\n",
       "      <td>1.869342</td>\n",
       "      <td>1.520124</td>\n",
       "      <td>-0.805184</td>\n",
       "      <td>-2.195965</td>\n",
       "      <td>fear</td>\n",
       "      <td>2</td>\n",
       "    </tr>\n",
       "  </tbody>\n",
       "</table>\n",
       "<p>5 rows × 42 columns</p>\n",
       "</div>"
      ],
      "text/plain": [
       "     feature1   feature2   feature3   feature4   feature5   feature6  \\\n",
       "0 -285.737274  85.782951  -2.168912  22.125530 -14.757398  11.051346   \n",
       "1 -348.343323  35.193233  -3.841328  14.658875   6.421053  -0.773787   \n",
       "2 -340.114349  53.796444 -14.267782  20.884027   9.057836  -3.562478   \n",
       "3 -306.634216  21.259708  -4.411082   6.487155  -7.804567   9.876858   \n",
       "4 -344.754791  46.329193 -24.171413  19.392921   2.262577  -6.460284   \n",
       "\n",
       "    feature7   feature8   feature9  feature10  ...  feature33  feature34  \\\n",
       "0  12.412449  -3.000262   1.084499  11.078273  ... -11.202218  -9.024621   \n",
       "1  -4.091444  -7.512503 -20.121277   1.180449  ...  -1.774828  -7.043899   \n",
       "2  -3.301548 -11.213589  -5.353901   4.443878  ... -15.309781  -6.463319   \n",
       "3  -1.674363 -13.998476  -9.832037  15.141318  ...  -8.218043  -0.909134   \n",
       "4  -5.930691   5.036542  -3.744801   4.203501  ...  -4.668800   6.438029   \n",
       "\n",
       "   feature35  feature36  feature37  feature38  feature39  feature40  emotion  \\\n",
       "0  -3.666985   4.869744  -1.602798   2.560051  11.454374  11.233451     fear   \n",
       "1 -12.571158   3.316836   1.701795  -0.645632   0.335101   9.383598     fear   \n",
       "2  -4.059399   4.893753  -0.165810   2.755698  11.734241  11.355121     fear   \n",
       "3   0.446974   5.390133  -1.845823   3.844763   0.011730  -0.432099     fear   \n",
       "4  -2.390229   0.041108   1.869342   1.520124  -0.805184  -2.195965     fear   \n",
       "\n",
       "   label  \n",
       "0      2  \n",
       "1      2  \n",
       "2      2  \n",
       "3      2  \n",
       "4      2  \n",
       "\n",
       "[5 rows x 42 columns]"
      ]
     },
     "execution_count": 11,
     "metadata": {},
     "output_type": "execute_result"
    }
   ],
   "source": [
    "\n",
    "import time\n",
    "start_time=time.time()\n",
    "Trail_dict = load_data(test_size=0.2)\n",
    "X = pd.DataFrame(Trail_dict[\"X\"])\n",
    "y = pd.DataFrame(Trail_dict[\"y\"])\n",
    "data = pd.concat([X,y],join='outer',axis=1)\n",
    "data.columns=['feature1','feature2','feature3','feature4','feature5','feature6','feature7','feature8','feature9','feature10','feature11',\n",
    "             'feature12','feature13','feature14','feature15','feature16','feature17','feature18','feature19','feature20','feature21','feature22',\n",
    "              'feature23',\n",
    "             'feature24','feature25','feature26','feature27','feature28','feature29','feature30','feature31','feature32',\n",
    "              'feature33','feature34','feature35','feature36','feature37','feature38','feature39','feature40','emotion'\n",
    "             ]\n",
    "data['label']=data['emotion'].astype('object')\n",
    "from sklearn.preprocessing import LabelEncoder\n",
    "le=LabelEncoder()\n",
    "data['label']=le.fit_transform(data['label'])\n",
    "data.head()"
   ]
  },
  {
   "cell_type": "code",
   "execution_count": 12,
   "id": "acbae246",
   "metadata": {
    "execution": {
     "iopub.execute_input": "2024-05-03T17:55:22.714537Z",
     "iopub.status.busy": "2024-05-03T17:55:22.713692Z",
     "iopub.status.idle": "2024-05-03T17:55:22.727677Z",
     "shell.execute_reply": "2024-05-03T17:55:22.725991Z"
    },
    "papermill": {
     "duration": 0.024888,
     "end_time": "2024-05-03T17:55:22.730228",
     "exception": false,
     "start_time": "2024-05-03T17:55:22.705340",
     "status": "completed"
    },
    "tags": []
   },
   "outputs": [
    {
     "name": "stdout",
     "output_type": "stream",
     "text": [
      "X_train shape: (4480, 40)\n",
      "y_train shape: (4480, 1)\n",
      "X_test shape: (1120, 40)\n",
      "y_test shape: (1120, 1)\n"
     ]
    }
   ],
   "source": [
    "#SPLITTING DATASET (TRAINING AND TESTING)\n",
    "\n",
    "from sklearn.model_selection import train_test_split\n",
    "\n",
    "#Split train & test dataset\n",
    "X_train, X_test, y_train, y_test = train_test_split(X, y, \n",
    "                                                    test_size=0.2, \n",
    "                                                    random_state=42)\n",
    "\n",
    "# Check out the data\n",
    "print(f'X_train shape: {X_train.shape}')\n",
    "print(f'y_train shape: {y_train.shape}')\n",
    "print(f'X_test shape: {X_test.shape}')\n",
    "print(f'y_test shape: {y_test.shape}')\n"
   ]
  },
  {
   "cell_type": "code",
   "execution_count": 13,
   "id": "9b34085d",
   "metadata": {
    "execution": {
     "iopub.execute_input": "2024-05-03T17:55:22.746402Z",
     "iopub.status.busy": "2024-05-03T17:55:22.746008Z",
     "iopub.status.idle": "2024-05-03T17:55:22.753229Z",
     "shell.execute_reply": "2024-05-03T17:55:22.752012Z"
    },
    "papermill": {
     "duration": 0.017914,
     "end_time": "2024-05-03T17:55:22.755453",
     "exception": false,
     "start_time": "2024-05-03T17:55:22.737539",
     "status": "completed"
    },
    "tags": []
   },
   "outputs": [
    {
     "name": "stdout",
     "output_type": "stream",
     "text": [
      "            0\n",
      "4795       ps\n",
      "4269  disgust\n",
      "2004    happy\n",
      "2515      sad\n",
      "3014    angry\n",
      "...       ...\n",
      "657   disgust\n",
      "3260     fear\n",
      "4294  disgust\n",
      "4041      sad\n",
      "4118      sad\n",
      "\n",
      "[1120 rows x 1 columns]\n"
     ]
    }
   ],
   "source": [
    "print(y_test)"
   ]
  },
  {
   "cell_type": "code",
   "execution_count": 14,
   "id": "6eb5dc63",
   "metadata": {
    "execution": {
     "iopub.execute_input": "2024-05-03T17:55:22.771289Z",
     "iopub.status.busy": "2024-05-03T17:55:22.770881Z",
     "iopub.status.idle": "2024-05-03T17:55:22.788909Z",
     "shell.execute_reply": "2024-05-03T17:55:22.787424Z"
    },
    "papermill": {
     "duration": 0.028299,
     "end_time": "2024-05-03T17:55:22.790962",
     "exception": false,
     "start_time": "2024-05-03T17:55:22.762663",
     "status": "completed"
    },
    "tags": []
   },
   "outputs": [
    {
     "name": "stdout",
     "output_type": "stream",
     "text": [
      "X_train shape: (4480, 40)\n",
      "y_train shape: (4480, 7)\n",
      "[[0. 0. 0. ... 1. 0. 0.]\n",
      " [0. 0. 1. ... 0. 0. 0.]\n",
      " [0. 0. 0. ... 0. 1. 0.]\n",
      " ...\n",
      " [0. 0. 0. ... 0. 0. 1.]\n",
      " [0. 0. 0. ... 0. 0. 1.]\n",
      " [0. 0. 0. ... 1. 0. 0.]]\n",
      "X_test shape: (1120, 40)\n",
      "y_test shape: (1120, 7)\n"
     ]
    },
    {
     "name": "stderr",
     "output_type": "stream",
     "text": [
      "/opt/conda/lib/python3.10/site-packages/sklearn/preprocessing/_label.py:116: DataConversionWarning: A column-vector y was passed when a 1d array was expected. Please change the shape of y to (n_samples, ), for example using ravel().\n",
      "  y = column_or_1d(y, warn=True)\n",
      "/opt/conda/lib/python3.10/site-packages/sklearn/preprocessing/_label.py:116: DataConversionWarning: A column-vector y was passed when a 1d array was expected. Please change the shape of y to (n_samples, ), for example using ravel().\n",
      "  y = column_or_1d(y, warn=True)\n"
     ]
    }
   ],
   "source": [
    "from tensorflow.keras.utils import to_categorical\n",
    "from sklearn.preprocessing import LabelEncoder\n",
    "\n",
    "lb = LabelEncoder()\n",
    "\n",
    "#Encode emotion labels into numbers\n",
    "y_train_lb = to_categorical(lb.fit_transform(y_train))\n",
    "y_test_lb = to_categorical(lb.fit_transform(y_test))\n",
    "\n",
    "# Check out the data\n",
    "print(f'X_train shape: {X_train.shape}')\n",
    "print(f'y_train shape: {y_train_lb.shape}')\n",
    "print(y_train_lb)\n",
    "print(f'X_test shape: {X_test.shape}')\n",
    "print(f'y_test shape: {y_test_lb.shape}')"
   ]
  },
  {
   "cell_type": "code",
   "execution_count": 15,
   "id": "08def990",
   "metadata": {
    "execution": {
     "iopub.execute_input": "2024-05-03T17:55:22.807400Z",
     "iopub.status.busy": "2024-05-03T17:55:22.807025Z",
     "iopub.status.idle": "2024-05-03T17:55:22.819908Z",
     "shell.execute_reply": "2024-05-03T17:55:22.818210Z"
    },
    "papermill": {
     "duration": 0.023953,
     "end_time": "2024-05-03T17:55:22.822398",
     "exception": false,
     "start_time": "2024-05-03T17:55:22.798445",
     "status": "completed"
    },
    "tags": []
   },
   "outputs": [
    {
     "name": "stdout",
     "output_type": "stream",
     "text": [
      "['angry' 'disgust' 'fear' 'happy' 'neutral' 'ps' 'sad']\n"
     ]
    }
   ],
   "source": [
    "#Check encoding\n",
    "np.unique(y_train_lb, axis=0)\n",
    "\n",
    "\n",
    "#Check encoding labels\n",
    "print(lb.classes_)\n"
   ]
  },
  {
   "cell_type": "code",
   "execution_count": 16,
   "id": "b1c1699a",
   "metadata": {
    "execution": {
     "iopub.execute_input": "2024-05-03T17:55:22.839240Z",
     "iopub.status.busy": "2024-05-03T17:55:22.838900Z",
     "iopub.status.idle": "2024-05-03T17:55:22.844877Z",
     "shell.execute_reply": "2024-05-03T17:55:22.842944Z"
    },
    "papermill": {
     "duration": 0.017121,
     "end_time": "2024-05-03T17:55:22.847202",
     "exception": false,
     "start_time": "2024-05-03T17:55:22.830081",
     "status": "completed"
    },
    "tags": []
   },
   "outputs": [
    {
     "name": "stdout",
     "output_type": "stream",
     "text": [
      "{0: 'angry', 1: 'disgust', 2: 'fear', 3: 'happy', 4: 'neutral', 5: 'ps', 6: 'sad'}\n"
     ]
    }
   ],
   "source": [
    "#Building new lists of encoding labels\n",
    "y_labels_encoded = {}\n",
    "for i, label in enumerate(lb.classes_):\n",
    "    y_labels_encoded[i] = label\n",
    "    \n",
    "print(y_labels_encoded)"
   ]
  },
  {
   "cell_type": "code",
   "execution_count": 17,
   "id": "608459f0",
   "metadata": {
    "execution": {
     "iopub.execute_input": "2024-05-03T17:55:22.863446Z",
     "iopub.status.busy": "2024-05-03T17:55:22.863079Z",
     "iopub.status.idle": "2024-05-03T17:55:22.875370Z",
     "shell.execute_reply": "2024-05-03T17:55:22.874593Z"
    },
    "papermill": {
     "duration": 0.02277,
     "end_time": "2024-05-03T17:55:22.877339",
     "exception": false,
     "start_time": "2024-05-03T17:55:22.854569",
     "status": "completed"
    },
    "tags": []
   },
   "outputs": [],
   "source": [
    "from sklearn.preprocessing import StandardScaler\n",
    "#SCALING THE DATA\n",
    "scaler = StandardScaler()\n",
    "scaler.fit(X_train)\n",
    "X_train_scalled = scaler.transform(X_train)\n",
    "X_test_scalled = scaler.transform(X_test)"
   ]
  },
  {
   "cell_type": "code",
   "execution_count": 18,
   "id": "1601e33c",
   "metadata": {
    "execution": {
     "iopub.execute_input": "2024-05-03T17:55:22.894566Z",
     "iopub.status.busy": "2024-05-03T17:55:22.893376Z",
     "iopub.status.idle": "2024-05-03T17:55:22.900381Z",
     "shell.execute_reply": "2024-05-03T17:55:22.898775Z"
    },
    "papermill": {
     "duration": 0.017435,
     "end_time": "2024-05-03T17:55:22.902444",
     "exception": false,
     "start_time": "2024-05-03T17:55:22.885009",
     "status": "completed"
    },
    "tags": []
   },
   "outputs": [
    {
     "name": "stdout",
     "output_type": "stream",
     "text": [
      "(4480, 40, 1)\n",
      "(1120, 40, 1)\n"
     ]
    }
   ],
   "source": [
    "#Adding dimension for CNN\n",
    "x_traincnn = np.expand_dims(X_train_scalled, axis=2)\n",
    "x_testcnn = np.expand_dims(X_test_scalled, axis=2)\n",
    "\n",
    "#Checking shapes of dataframes\n",
    "print(x_traincnn.shape)\n",
    "print(x_testcnn.shape)"
   ]
  },
  {
   "cell_type": "code",
   "execution_count": 19,
   "id": "ada1c28f",
   "metadata": {
    "execution": {
     "iopub.execute_input": "2024-05-03T17:55:22.919264Z",
     "iopub.status.busy": "2024-05-03T17:55:22.918932Z",
     "iopub.status.idle": "2024-05-03T17:55:22.931790Z",
     "shell.execute_reply": "2024-05-03T17:55:22.930211Z"
    },
    "papermill": {
     "duration": 0.02409,
     "end_time": "2024-05-03T17:55:22.934388",
     "exception": false,
     "start_time": "2024-05-03T17:55:22.910298",
     "status": "completed"
    },
    "tags": []
   },
   "outputs": [],
   "source": [
    "#Importing packages for CNN\n",
    "from tensorflow.keras.models import Sequential\n",
    "from tensorflow.keras.layers import Conv2D, Conv1D \n",
    "from tensorflow.keras.layers import Dense, Dropout, Embedding, LSTM, BatchNormalization, Flatten, MaxPooling2D\n",
    "from keras.models import Model\n",
    "from keras.callbacks import ModelCheckpoint\n",
    "\n",
    "\n",
    "\n",
    "\n",
    "#BUILDING CNN MODEL\n",
    "CNN_model = Sequential()"
   ]
  },
  {
   "cell_type": "code",
   "execution_count": 20,
   "id": "08471647",
   "metadata": {
    "execution": {
     "iopub.execute_input": "2024-05-03T17:55:22.953742Z",
     "iopub.status.busy": "2024-05-03T17:55:22.952994Z",
     "iopub.status.idle": "2024-05-03T17:55:23.127137Z",
     "shell.execute_reply": "2024-05-03T17:55:23.126304Z"
    },
    "papermill": {
     "duration": 0.187316,
     "end_time": "2024-05-03T17:55:23.129365",
     "exception": false,
     "start_time": "2024-05-03T17:55:22.942049",
     "status": "completed"
    },
    "tags": []
   },
   "outputs": [
    {
     "name": "stderr",
     "output_type": "stream",
     "text": [
      "/opt/conda/lib/python3.10/site-packages/keras/src/layers/convolutional/base_conv.py:99: UserWarning: Do not pass an `input_shape`/`input_dim` argument to a layer. When using Sequential models, prefer using an `Input(shape)` object as the first layer in the model instead.\n",
      "  super().__init__(\n"
     ]
    }
   ],
   "source": [
    "#Build first layer\n",
    "CNN_model.add(Conv1D(16, 5,padding='same',\n",
    "                 input_shape=(40, 1), activation='relu'))\n",
    "CNN_model.add(Dropout(0.2))\n",
    "CNN_model.add(MaxPooling1D(pool_size=(2)))\n",
    "\n",
    "#Build second layer\n",
    "CNN_model.add(Conv1D(32, 5,padding='same',activation='relu'))\n",
    "CNN_model.add(Dropout(0.2))\n",
    "CNN_model.add(MaxPooling1D(pool_size=(2)))\n",
    "#Build third layer\n",
    "CNN_model.add(Conv1D(64, 5,padding='same',activation='relu'))\n",
    "CNN_model.add(Dropout(0.3))\n",
    "CNN_model.add(MaxPooling1D(pool_size=(2)))\n",
    "#Build forth layer\n",
    "CNN_model.add(Conv1D(128, 5,padding='same',activation='relu'))\n",
    "CNN_model.add(Dropout(0.5))\n",
    "CNN_model.add(MaxPooling1D(pool_size=(2)))\n",
    "#Add dropout\n",
    "CNN_model.add(Dropout(0.3))"
   ]
  },
  {
   "cell_type": "code",
   "execution_count": 21,
   "id": "396fb707",
   "metadata": {
    "execution": {
     "iopub.execute_input": "2024-05-03T17:55:23.146957Z",
     "iopub.status.busy": "2024-05-03T17:55:23.145874Z",
     "iopub.status.idle": "2024-05-03T17:55:23.262578Z",
     "shell.execute_reply": "2024-05-03T17:55:23.261430Z"
    },
    "papermill": {
     "duration": 0.12737,
     "end_time": "2024-05-03T17:55:23.264579",
     "exception": false,
     "start_time": "2024-05-03T17:55:23.137209",
     "status": "completed"
    },
    "tags": []
   },
   "outputs": [
    {
     "data": {
      "text/html": [
       "<pre style=\"white-space:pre;overflow-x:auto;line-height:normal;font-family:Menlo,'DejaVu Sans Mono',consolas,'Courier New',monospace\"><span style=\"font-weight: bold\">Model: \"sequential\"</span>\n",
       "</pre>\n"
      ],
      "text/plain": [
       "\u001b[1mModel: \"sequential\"\u001b[0m\n"
      ]
     },
     "metadata": {},
     "output_type": "display_data"
    },
    {
     "data": {
      "text/html": [
       "<pre style=\"white-space:pre;overflow-x:auto;line-height:normal;font-family:Menlo,'DejaVu Sans Mono',consolas,'Courier New',monospace\">┏━━━━━━━━━━━━━━━━━━━━━━━━━━━━━━━━━┳━━━━━━━━━━━━━━━━━━━━━━━━┳━━━━━━━━━━━━━━━┓\n",
       "┃<span style=\"font-weight: bold\"> Layer (type)                    </span>┃<span style=\"font-weight: bold\"> Output Shape           </span>┃<span style=\"font-weight: bold\">       Param # </span>┃\n",
       "┡━━━━━━━━━━━━━━━━━━━━━━━━━━━━━━━━━╇━━━━━━━━━━━━━━━━━━━━━━━━╇━━━━━━━━━━━━━━━┩\n",
       "│ conv1d (<span style=\"color: #0087ff; text-decoration-color: #0087ff\">Conv1D</span>)                 │ (<span style=\"color: #00d7ff; text-decoration-color: #00d7ff\">None</span>, <span style=\"color: #00af00; text-decoration-color: #00af00\">40</span>, <span style=\"color: #00af00; text-decoration-color: #00af00\">16</span>)         │            <span style=\"color: #00af00; text-decoration-color: #00af00\">96</span> │\n",
       "├─────────────────────────────────┼────────────────────────┼───────────────┤\n",
       "│ dropout (<span style=\"color: #0087ff; text-decoration-color: #0087ff\">Dropout</span>)               │ (<span style=\"color: #00d7ff; text-decoration-color: #00d7ff\">None</span>, <span style=\"color: #00af00; text-decoration-color: #00af00\">40</span>, <span style=\"color: #00af00; text-decoration-color: #00af00\">16</span>)         │             <span style=\"color: #00af00; text-decoration-color: #00af00\">0</span> │\n",
       "├─────────────────────────────────┼────────────────────────┼───────────────┤\n",
       "│ max_pooling1d (<span style=\"color: #0087ff; text-decoration-color: #0087ff\">MaxPooling1D</span>)    │ (<span style=\"color: #00d7ff; text-decoration-color: #00d7ff\">None</span>, <span style=\"color: #00af00; text-decoration-color: #00af00\">20</span>, <span style=\"color: #00af00; text-decoration-color: #00af00\">16</span>)         │             <span style=\"color: #00af00; text-decoration-color: #00af00\">0</span> │\n",
       "├─────────────────────────────────┼────────────────────────┼───────────────┤\n",
       "│ conv1d_1 (<span style=\"color: #0087ff; text-decoration-color: #0087ff\">Conv1D</span>)               │ (<span style=\"color: #00d7ff; text-decoration-color: #00d7ff\">None</span>, <span style=\"color: #00af00; text-decoration-color: #00af00\">20</span>, <span style=\"color: #00af00; text-decoration-color: #00af00\">32</span>)         │         <span style=\"color: #00af00; text-decoration-color: #00af00\">2,592</span> │\n",
       "├─────────────────────────────────┼────────────────────────┼───────────────┤\n",
       "│ dropout_1 (<span style=\"color: #0087ff; text-decoration-color: #0087ff\">Dropout</span>)             │ (<span style=\"color: #00d7ff; text-decoration-color: #00d7ff\">None</span>, <span style=\"color: #00af00; text-decoration-color: #00af00\">20</span>, <span style=\"color: #00af00; text-decoration-color: #00af00\">32</span>)         │             <span style=\"color: #00af00; text-decoration-color: #00af00\">0</span> │\n",
       "├─────────────────────────────────┼────────────────────────┼───────────────┤\n",
       "│ max_pooling1d_1 (<span style=\"color: #0087ff; text-decoration-color: #0087ff\">MaxPooling1D</span>)  │ (<span style=\"color: #00d7ff; text-decoration-color: #00d7ff\">None</span>, <span style=\"color: #00af00; text-decoration-color: #00af00\">10</span>, <span style=\"color: #00af00; text-decoration-color: #00af00\">32</span>)         │             <span style=\"color: #00af00; text-decoration-color: #00af00\">0</span> │\n",
       "├─────────────────────────────────┼────────────────────────┼───────────────┤\n",
       "│ conv1d_2 (<span style=\"color: #0087ff; text-decoration-color: #0087ff\">Conv1D</span>)               │ (<span style=\"color: #00d7ff; text-decoration-color: #00d7ff\">None</span>, <span style=\"color: #00af00; text-decoration-color: #00af00\">10</span>, <span style=\"color: #00af00; text-decoration-color: #00af00\">64</span>)         │        <span style=\"color: #00af00; text-decoration-color: #00af00\">10,304</span> │\n",
       "├─────────────────────────────────┼────────────────────────┼───────────────┤\n",
       "│ dropout_2 (<span style=\"color: #0087ff; text-decoration-color: #0087ff\">Dropout</span>)             │ (<span style=\"color: #00d7ff; text-decoration-color: #00d7ff\">None</span>, <span style=\"color: #00af00; text-decoration-color: #00af00\">10</span>, <span style=\"color: #00af00; text-decoration-color: #00af00\">64</span>)         │             <span style=\"color: #00af00; text-decoration-color: #00af00\">0</span> │\n",
       "├─────────────────────────────────┼────────────────────────┼───────────────┤\n",
       "│ max_pooling1d_2 (<span style=\"color: #0087ff; text-decoration-color: #0087ff\">MaxPooling1D</span>)  │ (<span style=\"color: #00d7ff; text-decoration-color: #00d7ff\">None</span>, <span style=\"color: #00af00; text-decoration-color: #00af00\">5</span>, <span style=\"color: #00af00; text-decoration-color: #00af00\">64</span>)          │             <span style=\"color: #00af00; text-decoration-color: #00af00\">0</span> │\n",
       "├─────────────────────────────────┼────────────────────────┼───────────────┤\n",
       "│ conv1d_3 (<span style=\"color: #0087ff; text-decoration-color: #0087ff\">Conv1D</span>)               │ (<span style=\"color: #00d7ff; text-decoration-color: #00d7ff\">None</span>, <span style=\"color: #00af00; text-decoration-color: #00af00\">5</span>, <span style=\"color: #00af00; text-decoration-color: #00af00\">128</span>)         │        <span style=\"color: #00af00; text-decoration-color: #00af00\">41,088</span> │\n",
       "├─────────────────────────────────┼────────────────────────┼───────────────┤\n",
       "│ dropout_3 (<span style=\"color: #0087ff; text-decoration-color: #0087ff\">Dropout</span>)             │ (<span style=\"color: #00d7ff; text-decoration-color: #00d7ff\">None</span>, <span style=\"color: #00af00; text-decoration-color: #00af00\">5</span>, <span style=\"color: #00af00; text-decoration-color: #00af00\">128</span>)         │             <span style=\"color: #00af00; text-decoration-color: #00af00\">0</span> │\n",
       "├─────────────────────────────────┼────────────────────────┼───────────────┤\n",
       "│ max_pooling1d_3 (<span style=\"color: #0087ff; text-decoration-color: #0087ff\">MaxPooling1D</span>)  │ (<span style=\"color: #00d7ff; text-decoration-color: #00d7ff\">None</span>, <span style=\"color: #00af00; text-decoration-color: #00af00\">2</span>, <span style=\"color: #00af00; text-decoration-color: #00af00\">128</span>)         │             <span style=\"color: #00af00; text-decoration-color: #00af00\">0</span> │\n",
       "├─────────────────────────────────┼────────────────────────┼───────────────┤\n",
       "│ dropout_4 (<span style=\"color: #0087ff; text-decoration-color: #0087ff\">Dropout</span>)             │ (<span style=\"color: #00d7ff; text-decoration-color: #00d7ff\">None</span>, <span style=\"color: #00af00; text-decoration-color: #00af00\">2</span>, <span style=\"color: #00af00; text-decoration-color: #00af00\">128</span>)         │             <span style=\"color: #00af00; text-decoration-color: #00af00\">0</span> │\n",
       "├─────────────────────────────────┼────────────────────────┼───────────────┤\n",
       "│ flatten (<span style=\"color: #0087ff; text-decoration-color: #0087ff\">Flatten</span>)               │ (<span style=\"color: #00d7ff; text-decoration-color: #00d7ff\">None</span>, <span style=\"color: #00af00; text-decoration-color: #00af00\">256</span>)            │             <span style=\"color: #00af00; text-decoration-color: #00af00\">0</span> │\n",
       "├─────────────────────────────────┼────────────────────────┼───────────────┤\n",
       "│ dense (<span style=\"color: #0087ff; text-decoration-color: #0087ff\">Dense</span>)                   │ (<span style=\"color: #00d7ff; text-decoration-color: #00d7ff\">None</span>, <span style=\"color: #00af00; text-decoration-color: #00af00\">128</span>)            │        <span style=\"color: #00af00; text-decoration-color: #00af00\">32,896</span> │\n",
       "├─────────────────────────────────┼────────────────────────┼───────────────┤\n",
       "│ dropout_5 (<span style=\"color: #0087ff; text-decoration-color: #0087ff\">Dropout</span>)             │ (<span style=\"color: #00d7ff; text-decoration-color: #00d7ff\">None</span>, <span style=\"color: #00af00; text-decoration-color: #00af00\">128</span>)            │             <span style=\"color: #00af00; text-decoration-color: #00af00\">0</span> │\n",
       "├─────────────────────────────────┼────────────────────────┼───────────────┤\n",
       "│ dense_1 (<span style=\"color: #0087ff; text-decoration-color: #0087ff\">Dense</span>)                 │ (<span style=\"color: #00d7ff; text-decoration-color: #00d7ff\">None</span>, <span style=\"color: #00af00; text-decoration-color: #00af00\">64</span>)             │         <span style=\"color: #00af00; text-decoration-color: #00af00\">8,256</span> │\n",
       "├─────────────────────────────────┼────────────────────────┼───────────────┤\n",
       "│ dense_2 (<span style=\"color: #0087ff; text-decoration-color: #0087ff\">Dense</span>)                 │ (<span style=\"color: #00d7ff; text-decoration-color: #00d7ff\">None</span>, <span style=\"color: #00af00; text-decoration-color: #00af00\">7</span>)              │           <span style=\"color: #00af00; text-decoration-color: #00af00\">455</span> │\n",
       "└─────────────────────────────────┴────────────────────────┴───────────────┘\n",
       "</pre>\n"
      ],
      "text/plain": [
       "┏━━━━━━━━━━━━━━━━━━━━━━━━━━━━━━━━━┳━━━━━━━━━━━━━━━━━━━━━━━━┳━━━━━━━━━━━━━━━┓\n",
       "┃\u001b[1m \u001b[0m\u001b[1mLayer (type)                   \u001b[0m\u001b[1m \u001b[0m┃\u001b[1m \u001b[0m\u001b[1mOutput Shape          \u001b[0m\u001b[1m \u001b[0m┃\u001b[1m \u001b[0m\u001b[1m      Param #\u001b[0m\u001b[1m \u001b[0m┃\n",
       "┡━━━━━━━━━━━━━━━━━━━━━━━━━━━━━━━━━╇━━━━━━━━━━━━━━━━━━━━━━━━╇━━━━━━━━━━━━━━━┩\n",
       "│ conv1d (\u001b[38;5;33mConv1D\u001b[0m)                 │ (\u001b[38;5;45mNone\u001b[0m, \u001b[38;5;34m40\u001b[0m, \u001b[38;5;34m16\u001b[0m)         │            \u001b[38;5;34m96\u001b[0m │\n",
       "├─────────────────────────────────┼────────────────────────┼───────────────┤\n",
       "│ dropout (\u001b[38;5;33mDropout\u001b[0m)               │ (\u001b[38;5;45mNone\u001b[0m, \u001b[38;5;34m40\u001b[0m, \u001b[38;5;34m16\u001b[0m)         │             \u001b[38;5;34m0\u001b[0m │\n",
       "├─────────────────────────────────┼────────────────────────┼───────────────┤\n",
       "│ max_pooling1d (\u001b[38;5;33mMaxPooling1D\u001b[0m)    │ (\u001b[38;5;45mNone\u001b[0m, \u001b[38;5;34m20\u001b[0m, \u001b[38;5;34m16\u001b[0m)         │             \u001b[38;5;34m0\u001b[0m │\n",
       "├─────────────────────────────────┼────────────────────────┼───────────────┤\n",
       "│ conv1d_1 (\u001b[38;5;33mConv1D\u001b[0m)               │ (\u001b[38;5;45mNone\u001b[0m, \u001b[38;5;34m20\u001b[0m, \u001b[38;5;34m32\u001b[0m)         │         \u001b[38;5;34m2,592\u001b[0m │\n",
       "├─────────────────────────────────┼────────────────────────┼───────────────┤\n",
       "│ dropout_1 (\u001b[38;5;33mDropout\u001b[0m)             │ (\u001b[38;5;45mNone\u001b[0m, \u001b[38;5;34m20\u001b[0m, \u001b[38;5;34m32\u001b[0m)         │             \u001b[38;5;34m0\u001b[0m │\n",
       "├─────────────────────────────────┼────────────────────────┼───────────────┤\n",
       "│ max_pooling1d_1 (\u001b[38;5;33mMaxPooling1D\u001b[0m)  │ (\u001b[38;5;45mNone\u001b[0m, \u001b[38;5;34m10\u001b[0m, \u001b[38;5;34m32\u001b[0m)         │             \u001b[38;5;34m0\u001b[0m │\n",
       "├─────────────────────────────────┼────────────────────────┼───────────────┤\n",
       "│ conv1d_2 (\u001b[38;5;33mConv1D\u001b[0m)               │ (\u001b[38;5;45mNone\u001b[0m, \u001b[38;5;34m10\u001b[0m, \u001b[38;5;34m64\u001b[0m)         │        \u001b[38;5;34m10,304\u001b[0m │\n",
       "├─────────────────────────────────┼────────────────────────┼───────────────┤\n",
       "│ dropout_2 (\u001b[38;5;33mDropout\u001b[0m)             │ (\u001b[38;5;45mNone\u001b[0m, \u001b[38;5;34m10\u001b[0m, \u001b[38;5;34m64\u001b[0m)         │             \u001b[38;5;34m0\u001b[0m │\n",
       "├─────────────────────────────────┼────────────────────────┼───────────────┤\n",
       "│ max_pooling1d_2 (\u001b[38;5;33mMaxPooling1D\u001b[0m)  │ (\u001b[38;5;45mNone\u001b[0m, \u001b[38;5;34m5\u001b[0m, \u001b[38;5;34m64\u001b[0m)          │             \u001b[38;5;34m0\u001b[0m │\n",
       "├─────────────────────────────────┼────────────────────────┼───────────────┤\n",
       "│ conv1d_3 (\u001b[38;5;33mConv1D\u001b[0m)               │ (\u001b[38;5;45mNone\u001b[0m, \u001b[38;5;34m5\u001b[0m, \u001b[38;5;34m128\u001b[0m)         │        \u001b[38;5;34m41,088\u001b[0m │\n",
       "├─────────────────────────────────┼────────────────────────┼───────────────┤\n",
       "│ dropout_3 (\u001b[38;5;33mDropout\u001b[0m)             │ (\u001b[38;5;45mNone\u001b[0m, \u001b[38;5;34m5\u001b[0m, \u001b[38;5;34m128\u001b[0m)         │             \u001b[38;5;34m0\u001b[0m │\n",
       "├─────────────────────────────────┼────────────────────────┼───────────────┤\n",
       "│ max_pooling1d_3 (\u001b[38;5;33mMaxPooling1D\u001b[0m)  │ (\u001b[38;5;45mNone\u001b[0m, \u001b[38;5;34m2\u001b[0m, \u001b[38;5;34m128\u001b[0m)         │             \u001b[38;5;34m0\u001b[0m │\n",
       "├─────────────────────────────────┼────────────────────────┼───────────────┤\n",
       "│ dropout_4 (\u001b[38;5;33mDropout\u001b[0m)             │ (\u001b[38;5;45mNone\u001b[0m, \u001b[38;5;34m2\u001b[0m, \u001b[38;5;34m128\u001b[0m)         │             \u001b[38;5;34m0\u001b[0m │\n",
       "├─────────────────────────────────┼────────────────────────┼───────────────┤\n",
       "│ flatten (\u001b[38;5;33mFlatten\u001b[0m)               │ (\u001b[38;5;45mNone\u001b[0m, \u001b[38;5;34m256\u001b[0m)            │             \u001b[38;5;34m0\u001b[0m │\n",
       "├─────────────────────────────────┼────────────────────────┼───────────────┤\n",
       "│ dense (\u001b[38;5;33mDense\u001b[0m)                   │ (\u001b[38;5;45mNone\u001b[0m, \u001b[38;5;34m128\u001b[0m)            │        \u001b[38;5;34m32,896\u001b[0m │\n",
       "├─────────────────────────────────┼────────────────────────┼───────────────┤\n",
       "│ dropout_5 (\u001b[38;5;33mDropout\u001b[0m)             │ (\u001b[38;5;45mNone\u001b[0m, \u001b[38;5;34m128\u001b[0m)            │             \u001b[38;5;34m0\u001b[0m │\n",
       "├─────────────────────────────────┼────────────────────────┼───────────────┤\n",
       "│ dense_1 (\u001b[38;5;33mDense\u001b[0m)                 │ (\u001b[38;5;45mNone\u001b[0m, \u001b[38;5;34m64\u001b[0m)             │         \u001b[38;5;34m8,256\u001b[0m │\n",
       "├─────────────────────────────────┼────────────────────────┼───────────────┤\n",
       "│ dense_2 (\u001b[38;5;33mDense\u001b[0m)                 │ (\u001b[38;5;45mNone\u001b[0m, \u001b[38;5;34m7\u001b[0m)              │           \u001b[38;5;34m455\u001b[0m │\n",
       "└─────────────────────────────────┴────────────────────────┴───────────────┘\n"
      ]
     },
     "metadata": {},
     "output_type": "display_data"
    },
    {
     "data": {
      "text/html": [
       "<pre style=\"white-space:pre;overflow-x:auto;line-height:normal;font-family:Menlo,'DejaVu Sans Mono',consolas,'Courier New',monospace\"><span style=\"font-weight: bold\"> Total params: </span><span style=\"color: #00af00; text-decoration-color: #00af00\">95,687</span> (373.78 KB)\n",
       "</pre>\n"
      ],
      "text/plain": [
       "\u001b[1m Total params: \u001b[0m\u001b[38;5;34m95,687\u001b[0m (373.78 KB)\n"
      ]
     },
     "metadata": {},
     "output_type": "display_data"
    },
    {
     "data": {
      "text/html": [
       "<pre style=\"white-space:pre;overflow-x:auto;line-height:normal;font-family:Menlo,'DejaVu Sans Mono',consolas,'Courier New',monospace\"><span style=\"font-weight: bold\"> Trainable params: </span><span style=\"color: #00af00; text-decoration-color: #00af00\">95,687</span> (373.78 KB)\n",
       "</pre>\n"
      ],
      "text/plain": [
       "\u001b[1m Trainable params: \u001b[0m\u001b[38;5;34m95,687\u001b[0m (373.78 KB)\n"
      ]
     },
     "metadata": {},
     "output_type": "display_data"
    },
    {
     "data": {
      "text/html": [
       "<pre style=\"white-space:pre;overflow-x:auto;line-height:normal;font-family:Menlo,'DejaVu Sans Mono',consolas,'Courier New',monospace\"><span style=\"font-weight: bold\"> Non-trainable params: </span><span style=\"color: #00af00; text-decoration-color: #00af00\">0</span> (0.00 B)\n",
       "</pre>\n"
      ],
      "text/plain": [
       "\u001b[1m Non-trainable params: \u001b[0m\u001b[38;5;34m0\u001b[0m (0.00 B)\n"
      ]
     },
     "metadata": {},
     "output_type": "display_data"
    }
   ],
   "source": [
    "\n",
    "#Flatten \n",
    "CNN_model.add(Flatten())\n",
    "\n",
    "CNN_model.add(Dense(128, activation ='relu'))\n",
    "CNN_model.add(Dropout(0.1))\n",
    "CNN_model.add(Dense(64, activation ='relu'))\n",
    "CNN_model.add(Dense(7, activation='softmax'))\n",
    "# CNN model summary\n",
    "CNN_model.summary()"
   ]
  },
  {
   "cell_type": "code",
   "execution_count": 22,
   "id": "f8d6b2b1",
   "metadata": {
    "execution": {
     "iopub.execute_input": "2024-05-03T17:55:23.285515Z",
     "iopub.status.busy": "2024-05-03T17:55:23.285027Z",
     "iopub.status.idle": "2024-05-03T17:55:23.299614Z",
     "shell.execute_reply": "2024-05-03T17:55:23.298246Z"
    },
    "papermill": {
     "duration": 0.028535,
     "end_time": "2024-05-03T17:55:23.302121",
     "exception": false,
     "start_time": "2024-05-03T17:55:23.273586",
     "status": "completed"
    },
    "tags": []
   },
   "outputs": [],
   "source": [
    "\n",
    "# COMPILING THE MODEL \n",
    "CNN_model.compile(loss = 'categorical_crossentropy',\n",
    "                  optimizer = 'Adam',\n",
    "                  metrics = ['accuracy'])"
   ]
  },
  {
   "cell_type": "code",
   "execution_count": 23,
   "id": "d3534dad",
   "metadata": {
    "execution": {
     "iopub.execute_input": "2024-05-03T17:55:23.325790Z",
     "iopub.status.busy": "2024-05-03T17:55:23.324571Z",
     "iopub.status.idle": "2024-05-03T17:55:23.329342Z",
     "shell.execute_reply": "2024-05-03T17:55:23.328726Z"
    },
    "papermill": {
     "duration": 0.01766,
     "end_time": "2024-05-03T17:55:23.331024",
     "exception": false,
     "start_time": "2024-05-03T17:55:23.313364",
     "status": "completed"
    },
    "tags": []
   },
   "outputs": [],
   "source": [
    "from keras.callbacks import ModelCheckpoint \n",
    "\n",
    "checkpointer = ModelCheckpoint(filepath='saved_models/weights.best.basic_cnn.keras', \n",
    "                               verbose=1, save_best_only=True)\n"
   ]
  },
  {
   "cell_type": "code",
   "execution_count": 24,
   "id": "98c2e040",
   "metadata": {
    "execution": {
     "iopub.execute_input": "2024-05-03T17:55:23.349755Z",
     "iopub.status.busy": "2024-05-03T17:55:23.348675Z",
     "iopub.status.idle": "2024-05-03T17:55:53.017314Z",
     "shell.execute_reply": "2024-05-03T17:55:53.016076Z"
    },
    "papermill": {
     "duration": 29.680163,
     "end_time": "2024-05-03T17:55:53.019593",
     "exception": false,
     "start_time": "2024-05-03T17:55:23.339430",
     "status": "completed"
    },
    "tags": []
   },
   "outputs": [
    {
     "name": "stdout",
     "output_type": "stream",
     "text": [
      "Epoch 1/25\n",
      "\u001b[1m70/70\u001b[0m \u001b[32m━━━━━━━━━━━━━━━━━━━━\u001b[0m\u001b[37m\u001b[0m \u001b[1m3s\u001b[0m 14ms/step - accuracy: 0.3198 - loss: 1.6584 - val_accuracy: 0.8848 - val_loss: 0.5402\n",
      "Epoch 2/25\n",
      "\u001b[1m70/70\u001b[0m \u001b[32m━━━━━━━━━━━━━━━━━━━━\u001b[0m\u001b[37m\u001b[0m \u001b[1m1s\u001b[0m 12ms/step - accuracy: 0.8304 - loss: 0.4771 - val_accuracy: 0.9250 - val_loss: 0.2641\n",
      "Epoch 3/25\n",
      "\u001b[1m70/70\u001b[0m \u001b[32m━━━━━━━━━━━━━━━━━━━━\u001b[0m\u001b[37m\u001b[0m \u001b[1m1s\u001b[0m 11ms/step - accuracy: 0.9037 - loss: 0.2856 - val_accuracy: 0.9563 - val_loss: 0.1646\n",
      "Epoch 4/25\n",
      "\u001b[1m70/70\u001b[0m \u001b[32m━━━━━━━━━━━━━━━━━━━━\u001b[0m\u001b[37m\u001b[0m \u001b[1m1s\u001b[0m 16ms/step - accuracy: 0.9320 - loss: 0.1908 - val_accuracy: 0.9714 - val_loss: 0.1215\n",
      "Epoch 5/25\n",
      "\u001b[1m70/70\u001b[0m \u001b[32m━━━━━━━━━━━━━━━━━━━━\u001b[0m\u001b[37m\u001b[0m \u001b[1m1s\u001b[0m 11ms/step - accuracy: 0.9328 - loss: 0.1828 - val_accuracy: 0.9750 - val_loss: 0.1025\n",
      "Epoch 6/25\n",
      "\u001b[1m70/70\u001b[0m \u001b[32m━━━━━━━━━━━━━━━━━━━━\u001b[0m\u001b[37m\u001b[0m \u001b[1m1s\u001b[0m 11ms/step - accuracy: 0.9540 - loss: 0.1416 - val_accuracy: 0.9795 - val_loss: 0.0915\n",
      "Epoch 7/25\n",
      "\u001b[1m70/70\u001b[0m \u001b[32m━━━━━━━━━━━━━━━━━━━━\u001b[0m\u001b[37m\u001b[0m \u001b[1m1s\u001b[0m 11ms/step - accuracy: 0.9627 - loss: 0.1127 - val_accuracy: 0.9786 - val_loss: 0.0846\n",
      "Epoch 8/25\n",
      "\u001b[1m70/70\u001b[0m \u001b[32m━━━━━━━━━━━━━━━━━━━━\u001b[0m\u001b[37m\u001b[0m \u001b[1m2s\u001b[0m 14ms/step - accuracy: 0.9637 - loss: 0.1168 - val_accuracy: 0.9812 - val_loss: 0.0656\n",
      "Epoch 9/25\n",
      "\u001b[1m70/70\u001b[0m \u001b[32m━━━━━━━━━━━━━━━━━━━━\u001b[0m\u001b[37m\u001b[0m \u001b[1m1s\u001b[0m 10ms/step - accuracy: 0.9670 - loss: 0.1013 - val_accuracy: 0.9866 - val_loss: 0.0523\n",
      "Epoch 10/25\n",
      "\u001b[1m70/70\u001b[0m \u001b[32m━━━━━━━━━━━━━━━━━━━━\u001b[0m\u001b[37m\u001b[0m \u001b[1m1s\u001b[0m 11ms/step - accuracy: 0.9685 - loss: 0.0945 - val_accuracy: 0.9911 - val_loss: 0.0394\n",
      "Epoch 11/25\n",
      "\u001b[1m70/70\u001b[0m \u001b[32m━━━━━━━━━━━━━━━━━━━━\u001b[0m\u001b[37m\u001b[0m \u001b[1m1s\u001b[0m 12ms/step - accuracy: 0.9735 - loss: 0.0828 - val_accuracy: 0.9866 - val_loss: 0.0411\n",
      "Epoch 12/25\n",
      "\u001b[1m70/70\u001b[0m \u001b[32m━━━━━━━━━━━━━━━━━━━━\u001b[0m\u001b[37m\u001b[0m \u001b[1m1s\u001b[0m 13ms/step - accuracy: 0.9755 - loss: 0.0866 - val_accuracy: 0.9884 - val_loss: 0.0520\n",
      "Epoch 13/25\n",
      "\u001b[1m70/70\u001b[0m \u001b[32m━━━━━━━━━━━━━━━━━━━━\u001b[0m\u001b[37m\u001b[0m \u001b[1m1s\u001b[0m 10ms/step - accuracy: 0.9758 - loss: 0.0681 - val_accuracy: 0.9937 - val_loss: 0.0371\n",
      "Epoch 14/25\n",
      "\u001b[1m70/70\u001b[0m \u001b[32m━━━━━━━━━━━━━━━━━━━━\u001b[0m\u001b[37m\u001b[0m \u001b[1m1s\u001b[0m 10ms/step - accuracy: 0.9728 - loss: 0.0743 - val_accuracy: 0.9929 - val_loss: 0.0363\n",
      "Epoch 15/25\n",
      "\u001b[1m70/70\u001b[0m \u001b[32m━━━━━━━━━━━━━━━━━━━━\u001b[0m\u001b[37m\u001b[0m \u001b[1m1s\u001b[0m 11ms/step - accuracy: 0.9765 - loss: 0.0692 - val_accuracy: 0.9920 - val_loss: 0.0276\n",
      "Epoch 16/25\n",
      "\u001b[1m70/70\u001b[0m \u001b[32m━━━━━━━━━━━━━━━━━━━━\u001b[0m\u001b[37m\u001b[0m \u001b[1m2s\u001b[0m 15ms/step - accuracy: 0.9783 - loss: 0.0630 - val_accuracy: 0.9937 - val_loss: 0.0221\n",
      "Epoch 17/25\n",
      "\u001b[1m70/70\u001b[0m \u001b[32m━━━━━━━━━━━━━━━━━━━━\u001b[0m\u001b[37m\u001b[0m \u001b[1m1s\u001b[0m 11ms/step - accuracy: 0.9865 - loss: 0.0410 - val_accuracy: 0.9946 - val_loss: 0.0193\n",
      "Epoch 18/25\n",
      "\u001b[1m70/70\u001b[0m \u001b[32m━━━━━━━━━━━━━━━━━━━━\u001b[0m\u001b[37m\u001b[0m \u001b[1m1s\u001b[0m 13ms/step - accuracy: 0.9851 - loss: 0.0398 - val_accuracy: 0.9946 - val_loss: 0.0262\n",
      "Epoch 19/25\n",
      "\u001b[1m70/70\u001b[0m \u001b[32m━━━━━━━━━━━━━━━━━━━━\u001b[0m\u001b[37m\u001b[0m \u001b[1m1s\u001b[0m 11ms/step - accuracy: 0.9849 - loss: 0.0452 - val_accuracy: 0.9955 - val_loss: 0.0201\n",
      "Epoch 20/25\n",
      "\u001b[1m70/70\u001b[0m \u001b[32m━━━━━━━━━━━━━━━━━━━━\u001b[0m\u001b[37m\u001b[0m \u001b[1m1s\u001b[0m 11ms/step - accuracy: 0.9857 - loss: 0.0475 - val_accuracy: 0.9929 - val_loss: 0.0207\n",
      "Epoch 21/25\n",
      "\u001b[1m70/70\u001b[0m \u001b[32m━━━━━━━━━━━━━━━━━━━━\u001b[0m\u001b[37m\u001b[0m \u001b[1m1s\u001b[0m 11ms/step - accuracy: 0.9875 - loss: 0.0373 - val_accuracy: 0.9964 - val_loss: 0.0152\n",
      "Epoch 22/25\n",
      "\u001b[1m70/70\u001b[0m \u001b[32m━━━━━━━━━━━━━━━━━━━━\u001b[0m\u001b[37m\u001b[0m \u001b[1m1s\u001b[0m 13ms/step - accuracy: 0.9895 - loss: 0.0348 - val_accuracy: 0.9955 - val_loss: 0.0241\n",
      "Epoch 23/25\n",
      "\u001b[1m70/70\u001b[0m \u001b[32m━━━━━━━━━━━━━━━━━━━━\u001b[0m\u001b[37m\u001b[0m \u001b[1m1s\u001b[0m 11ms/step - accuracy: 0.9895 - loss: 0.0432 - val_accuracy: 0.9937 - val_loss: 0.0193\n",
      "Epoch 24/25\n",
      "\u001b[1m70/70\u001b[0m \u001b[32m━━━━━━━━━━━━━━━━━━━━\u001b[0m\u001b[37m\u001b[0m \u001b[1m1s\u001b[0m 11ms/step - accuracy: 0.9885 - loss: 0.0375 - val_accuracy: 0.9937 - val_loss: 0.0170\n",
      "Epoch 25/25\n",
      "\u001b[1m70/70\u001b[0m \u001b[32m━━━━━━━━━━━━━━━━━━━━\u001b[0m\u001b[37m\u001b[0m \u001b[1m1s\u001b[0m 11ms/step - accuracy: 0.9900 - loss: 0.0331 - val_accuracy: 0.9937 - val_loss: 0.0133\n"
     ]
    }
   ],
   "source": [
    "#MODEL FIT\n",
    "cnn_results = CNN_model.fit(x_traincnn, y_train_lb,\n",
    "              batch_size = 64,\n",
    "              epochs = 25,\n",
    "              verbose = 1,\n",
    "              validation_data = (x_testcnn, y_test_lb))"
   ]
  },
  {
   "cell_type": "code",
   "execution_count": 25,
   "id": "608ee573",
   "metadata": {
    "execution": {
     "iopub.execute_input": "2024-05-03T17:55:53.081691Z",
     "iopub.status.busy": "2024-05-03T17:55:53.081296Z",
     "iopub.status.idle": "2024-05-03T17:55:53.324171Z",
     "shell.execute_reply": "2024-05-03T17:55:53.322826Z"
    },
    "papermill": {
     "duration": 0.277513,
     "end_time": "2024-05-03T17:55:53.327037",
     "exception": false,
     "start_time": "2024-05-03T17:55:53.049524",
     "status": "completed"
    },
    "tags": []
   },
   "outputs": [
    {
     "data": {
      "image/png": "[encoded data removed]",
      "text/plain": [
       "<Figure size 640x480 with 1 Axes>"
      ]
     },
     "metadata": {},
     "output_type": "display_data"
    }
   ],
   "source": [
    "\n",
    "#Ploting model accuracy over ephocs\n",
    "plt.plot(cnn_results.history['accuracy'])\n",
    "plt.plot(cnn_results.history['val_accuracy'])\n",
    "plt.title('model accuracy')\n",
    "plt.ylabel('accuracy')\n",
    "plt.xlabel('epoch')\n",
    "plt.legend(['train', 'test'], loc='upper left')\n",
    "plt.show()"
   ]
  },
  {
   "cell_type": "code",
   "execution_count": 26,
   "id": "cb66b1f5",
   "metadata": {
    "execution": {
     "iopub.execute_input": "2024-05-03T17:55:53.389805Z",
     "iopub.status.busy": "2024-05-03T17:55:53.389470Z",
     "iopub.status.idle": "2024-05-03T17:55:54.028976Z",
     "shell.execute_reply": "2024-05-03T17:55:54.027443Z"
    },
    "papermill": {
     "duration": 0.673804,
     "end_time": "2024-05-03T17:55:54.031559",
     "exception": false,
     "start_time": "2024-05-03T17:55:53.357755",
     "status": "completed"
    },
    "tags": []
   },
   "outputs": [
    {
     "name": "stdout",
     "output_type": "stream",
     "text": [
      "Training Accuracy:  0.9993303418159485\n",
      "Testing Accuracy:  0.9937499761581421\n"
     ]
    }
   ],
   "source": [
    "\n",
    "# Evaluating the model on the training and testing set\n",
    "score = CNN_model.evaluate(x_traincnn, y_train_lb, verbose=0)\n",
    "print(\"Training Accuracy: \", score[1])\n",
    "\n",
    "score = CNN_model.evaluate(x_testcnn, y_test_lb, verbose=0)\n",
    "print(\"Testing Accuracy: \", score[1])"
   ]
  },
  {
   "cell_type": "code",
   "execution_count": 27,
   "id": "d1120751",
   "metadata": {
    "execution": {
     "iopub.execute_input": "2024-05-03T17:55:54.100580Z",
     "iopub.status.busy": "2024-05-03T17:55:54.099029Z",
     "iopub.status.idle": "2024-05-03T17:55:54.383333Z",
     "shell.execute_reply": "2024-05-03T17:55:54.382537Z"
    },
    "papermill": {
     "duration": 0.319007,
     "end_time": "2024-05-03T17:55:54.385406",
     "exception": false,
     "start_time": "2024-05-03T17:55:54.066399",
     "status": "completed"
    },
    "tags": []
   },
   "outputs": [
    {
     "name": "stdout",
     "output_type": "stream",
     "text": [
      "\u001b[1m35/35\u001b[0m \u001b[32m━━━━━━━━━━━━━━━━━━━━\u001b[0m\u001b[37m\u001b[0m \u001b[1m0s\u001b[0m 3ms/step\n",
      "[5 1 3 ... 1 6 6]\n",
      "{0: 'angry', 1: 'disgust', 2: 'fear', 3: 'happy', 4: 'neutral', 5: 'ps', 6: 'sad'}\n"
     ]
    }
   ],
   "source": [
    "#Get predictions from model\n",
    "y_test_predictions = CNN_model.predict(x_testcnn)\n",
    "y_test_labels = np.argmax(y_test_predictions, axis=-1)\n",
    "print(y_test_labels)\n",
    "\n",
    "\n",
    "#Get labels for emotions\n",
    "print(y_labels_encoded)"
   ]
  },
  {
   "cell_type": "code",
   "execution_count": 28,
   "id": "ea2403dd",
   "metadata": {
    "execution": {
     "iopub.execute_input": "2024-05-03T17:55:54.451419Z",
     "iopub.status.busy": "2024-05-03T17:55:54.450576Z",
     "iopub.status.idle": "2024-05-03T17:55:54.459657Z",
     "shell.execute_reply": "2024-05-03T17:55:54.457805Z"
    },
    "papermill": {
     "duration": 0.044936,
     "end_time": "2024-05-03T17:55:54.462387",
     "exception": false,
     "start_time": "2024-05-03T17:55:54.417451",
     "status": "completed"
    },
    "tags": []
   },
   "outputs": [
    {
     "name": "stdout",
     "output_type": "stream",
     "text": [
      "            0\n",
      "4795       ps\n",
      "4269  disgust\n",
      "2004    happy\n",
      "2515      sad\n",
      "3014    angry\n",
      "...       ...\n",
      "657   disgust\n",
      "3260     fear\n",
      "4294  disgust\n",
      "4041      sad\n",
      "4118      sad\n",
      "\n",
      "[1120 rows x 1 columns]\n"
     ]
    }
   ],
   "source": [
    "print(y_test)"
   ]
  },
  {
   "cell_type": "code",
   "execution_count": 29,
   "id": "5a51311b",
   "metadata": {
    "execution": {
     "iopub.execute_input": "2024-05-03T17:55:54.528469Z",
     "iopub.status.busy": "2024-05-03T17:55:54.528031Z",
     "iopub.status.idle": "2024-05-03T17:55:54.533383Z",
     "shell.execute_reply": "2024-05-03T17:55:54.532367Z"
    },
    "papermill": {
     "duration": 0.040337,
     "end_time": "2024-05-03T17:55:54.535115",
     "exception": false,
     "start_time": "2024-05-03T17:55:54.494778",
     "status": "completed"
    },
    "tags": []
   },
   "outputs": [],
   "source": [
    "label_to_index = {v: k for k, v in y_labels_encoded.items()}"
   ]
  },
  {
   "cell_type": "code",
   "execution_count": 30,
   "id": "5c87d748",
   "metadata": {
    "execution": {
     "iopub.execute_input": "2024-05-03T17:55:54.654030Z",
     "iopub.status.busy": "2024-05-03T17:55:54.653679Z",
     "iopub.status.idle": "2024-05-03T17:55:54.659971Z",
     "shell.execute_reply": "2024-05-03T17:55:54.658440Z"
    },
    "papermill": {
     "duration": 0.041739,
     "end_time": "2024-05-03T17:55:54.662367",
     "exception": false,
     "start_time": "2024-05-03T17:55:54.620628",
     "status": "completed"
    },
    "tags": []
   },
   "outputs": [
    {
     "name": "stdout",
     "output_type": "stream",
     "text": [
      "Numeric indices for y_test: [5 1 3 ... 1 6 6]\n"
     ]
    }
   ],
   "source": [
    "y_test_numeric = np.array([label_to_index[label] for label in y_test[0]])\n",
    "\n",
    "print(\"Numeric indices for y_test:\", y_test_numeric)"
   ]
  },
  {
   "cell_type": "code",
   "execution_count": 31,
   "id": "e3a393f8",
   "metadata": {
    "execution": {
     "iopub.execute_input": "2024-05-03T17:55:54.726521Z",
     "iopub.status.busy": "2024-05-03T17:55:54.726165Z",
     "iopub.status.idle": "2024-05-03T17:55:55.106317Z",
     "shell.execute_reply": "2024-05-03T17:55:55.105154Z"
    },
    "papermill": {
     "duration": 0.414638,
     "end_time": "2024-05-03T17:55:55.108374",
     "exception": false,
     "start_time": "2024-05-03T17:55:54.693736",
     "status": "completed"
    },
    "tags": []
   },
   "outputs": [
    {
     "name": "stdout",
     "output_type": "stream",
     "text": [
      "[[168   0   2   0   0   0   0]\n",
      " [  0 169   0   0   0   0   0]\n",
      " [  0   0 157   0   0   0   0]\n",
      " [  0   0   0 155   0   3   0]\n",
      " [  0   0   0   0 157   0   0]\n",
      " [  0   0   0   2   0 159   0]\n",
      " [  0   0   0   0   0   0 148]]\n",
      "The rows represents the true values or observations\n",
      "The columns respresent the model's predictions\n",
      "         angry  disgust  fear  happy  neutral   ps  sad\n",
      "angry      168        0     2      0        0    0    0\n",
      "disgust      0      169     0      0        0    0    0\n",
      "fear         0        0   157      0        0    0    0\n",
      "happy        0        0     0    155        0    3    0\n",
      "neutral      0        0     0      0      157    0    0\n",
      "ps           0        0     0      2        0  159    0\n",
      "sad          0        0     0      0        0    0  148\n"
     ]
    },
    {
     "data": {
      "image/png": "[encoded data removed]",
      "text/plain": [
       "<Figure size 640x480 with 2 Axes>"
      ]
     },
     "metadata": {},
     "output_type": "display_data"
    }
   ],
   "source": [
    "\n",
    "\n",
    "from sklearn.metrics import confusion_matrix\n",
    "\n",
    "#BUILDING CONFUSION MATRIX \n",
    "confusion_matrix = confusion_matrix(y_test_numeric,y_test_labels)\n",
    "print(confusion_matrix)\n",
    "\n",
    "\n",
    "#PLOTTING HEAT MAP\n",
    "ax = sns.heatmap(confusion_matrix, annot=True)\n",
    "\n",
    "\n",
    "\n",
    "#Adding labels to confusion matrix\n",
    "confusion_matrix = pd.DataFrame(confusion_matrix, columns=list(y_labels_encoded.values()), index=list(y_labels_encoded.values()))\n",
    "\n",
    "print(\"The rows represents the true values or observations\")\n",
    "print(\"The columns respresent the model's predictions\")\n",
    "print(confusion_matrix)"
   ]
  }
 ],
 "metadata": {
  "kaggle": {
   "accelerator": "none",
   "dataSources": [
    {
     "datasetId": 316368,
     "sourceId": 639622,
     "sourceType": "datasetVersion"
    },
    {
     "datasetId": 325566,
     "sourceId": 653195,
     "sourceType": "datasetVersion"
    }
   ],
   "dockerImageVersionId": 30698,
   "isGpuEnabled": false,
   "isInternetEnabled": false,
   "language": "python",
   "sourceType": "notebook"
  },
  "kernelspec": {
   "display_name": "Python 3",
   "language": "python",
   "name": "python3"
  },
  "language_info": {
   "codemirror_mode": {
    "name": "ipython",
    "version": 3
   },
   "file_extension": ".py",
   "mimetype": "text/x-python",
   "name": "python",
   "nbconvert_exporter": "python",
   "pygments_lexer": "ipython3",
   "version": "3.10.13"
  },
  "papermill": {
   "default_parameters": {},
   "duration": 176.012819,
   "end_time": "2024-05-03T17:55:57.968431",
   "environment_variables": {},
   "exception": null,
   "input_path": "__notebook__.ipynb",
   "output_path": "__notebook__.ipynb",
   "parameters": {},
   "start_time": "2024-05-03T17:53:01.955612",
   "version": "2.5.0"
  }
 },
 "nbformat": 4,
 "nbformat_minor": 5
}
